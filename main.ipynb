{
 "cells": [
  {
   "cell_type": "code",
   "execution_count": 1,
   "metadata": {},
   "outputs": [],
   "source": [
    "import numpy as np\n",
    "import skfuzzy as fuzz\n",
    "from skfuzzy import control as ctrl"
   ]
  },
  {
   "cell_type": "code",
   "execution_count": 2,
   "metadata": {},
   "outputs": [],
   "source": [
    "# Define fuzzy variables\n",
    "temperature = ctrl.Antecedent(np.arange(0, 41, 1), 'temperature')\n",
    "humidity = ctrl.Antecedent(np.arange(0, 101, 1), 'humidity')\n",
    "fan_speed = ctrl.Consequent(np.arange(0, 101, 1), 'fan_speed')"
   ]
  },
  {
   "cell_type": "code",
   "execution_count": 3,
   "metadata": {},
   "outputs": [],
   "source": [
    "# Define membership functions for temperature\n",
    "temperature['cold'] = fuzz.trimf(temperature.universe, [0, 0, 20])\n",
    "temperature['comfortable'] = fuzz.trimf(temperature.universe, [15, 25, 35])\n",
    "temperature['hot'] = fuzz.trimf(temperature.universe, [30, 40, 40])\n",
    "\n",
    "# Define membership functions for humidity\n",
    "humidity['low'] = fuzz.trimf(humidity.universe, [0, 0, 50])\n",
    "humidity['medium'] = fuzz.trimf(humidity.universe, [30, 50, 70])\n",
    "humidity['high'] = fuzz.trimf(humidity.universe, [60, 100, 100])\n",
    "\n",
    "# Define membership functions for fan speed\n",
    "fan_speed['low'] = fuzz.trimf(fan_speed.universe, [0, 0, 50])\n",
    "fan_speed['medium'] = fuzz.trimf(fan_speed.universe, [30, 50, 70])\n",
    "fan_speed['high'] = fuzz.trimf(fan_speed.universe, [60, 100, 100])"
   ]
  },
  {
   "cell_type": "code",
   "execution_count": 4,
   "metadata": {},
   "outputs": [],
   "source": [
    "# Define fuzzy rules\n",
    "rule1 = ctrl.Rule(temperature['cold'] & humidity['low'], fan_speed['low'])\n",
    "rule2 = ctrl.Rule(temperature['cold'] & humidity['medium'], fan_speed['low'])\n",
    "rule3 = ctrl.Rule(temperature['cold'] & humidity['high'], fan_speed['medium'])\n",
    "\n",
    "rule4 = ctrl.Rule(temperature['comfortable'] & humidity['low'], fan_speed['medium'])\n",
    "rule5 = ctrl.Rule(temperature['comfortable'] & humidity['medium'], fan_speed['medium'])\n",
    "rule6 = ctrl.Rule(temperature['comfortable'] & humidity['high'], fan_speed['high'])\n",
    "\n",
    "rule7 = ctrl.Rule(temperature['hot'] & humidity['low'], fan_speed['high'])\n",
    "rule8 = ctrl.Rule(temperature['hot'] & humidity['medium'], fan_speed['high'])\n",
    "rule9 = ctrl.Rule(temperature['hot'] & humidity['high'], fan_speed['high'])"
   ]
  },
  {
   "cell_type": "code",
   "execution_count": 5,
   "metadata": {},
   "outputs": [],
   "source": [
    "# Control system\n",
    "fan_speed_ctrl = ctrl.ControlSystem([rule1, rule2, rule3, rule4, rule5, rule6, rule7, rule8, rule9])\n",
    "fan_speed_sim = ctrl.ControlSystemSimulation(fan_speed_ctrl)"
   ]
  },
  {
   "cell_type": "code",
   "execution_count": 6,
   "metadata": {},
   "outputs": [],
   "source": [
    "# Input values\n",
    "temperature_input = 30  # Example: 30°C\n",
    "humidity_input = 65     # Example: 65%\n",
    "\n",
    "fan_speed_sim.input['temperature'] = temperature_input\n",
    "fan_speed_sim.input['humidity'] = humidity_input"
   ]
  },
  {
   "cell_type": "code",
   "execution_count": 7,
   "metadata": {},
   "outputs": [
    {
     "name": "stdout",
     "output_type": "stream",
     "text": [
      "With Temperature = 30°C and Humidity = 65%, the fan speed is 60.61%\n"
     ]
    }
   ],
   "source": [
    "# Compute the result\n",
    "fan_speed_sim.compute()\n",
    "output_speed = fan_speed_sim.output['fan_speed']\n",
    "\n",
    "print(f\"With Temperature = {temperature_input}°C and Humidity = {humidity_input}%, the fan speed is {output_speed:.2f}%\")"
   ]
  }
 ],
 "metadata": {
  "kernelspec": {
   "display_name": "Python 3",
   "language": "python",
   "name": "python3"
  },
  "language_info": {
   "codemirror_mode": {
    "name": "ipython",
    "version": 3
   },
   "file_extension": ".py",
   "mimetype": "text/x-python",
   "name": "python",
   "nbconvert_exporter": "python",
   "pygments_lexer": "ipython3",
   "version": "3.12.4"
  }
 },
 "nbformat": 4,
 "nbformat_minor": 2
}
